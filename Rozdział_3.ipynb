{
  "nbformat": 4,
  "nbformat_minor": 0,
  "metadata": {
    "colab": {
      "provenance": []
    },
    "kernelspec": {
      "name": "python3",
      "display_name": "Python 3"
    },
    "language_info": {
      "name": "python"
    }
  },
  "cells": [
    {
      "cell_type": "code",
      "execution_count": 3,
      "metadata": {
        "colab": {
          "base_uri": "https://localhost:8080/"
        },
        "id": "xrb9PjaZJH8r",
        "outputId": "66775c98-eba8-4a95-9af3-b313683a78f9"
      },
      "outputs": [
        {
          "output_type": "stream",
          "name": "stdout",
          "text": [
            "OR Gate Output:\n",
            "1/1 [==============================] - 0s 58ms/step\n",
            "[[0.3631489 ]\n",
            " [0.8702667 ]\n",
            " [0.9146388 ]\n",
            " [0.94834906]]\n",
            "NOR Gate Output:\n",
            "1/1 [==============================] - 0s 40ms/step\n",
            "[[0.595144  ]\n",
            " [0.16765375]\n",
            " [0.05844492]\n",
            " [0.02911962]]\n",
            "AND Gate Output:\n",
            "1/1 [==============================] - 0s 39ms/step\n",
            "[[0.07555156]\n",
            " [0.21339303]\n",
            " [0.25503618]\n",
            " [0.49093932]]\n",
            "NAND Gate Output:\n",
            "1/1 [==============================] - 0s 44ms/step\n",
            "[[0.9310328 ]\n",
            " [0.76745665]\n",
            " [0.7624943 ]\n",
            " [0.45885327]]\n"
          ]
        }
      ],
      "source": [
        "from keras.models import Sequential\n",
        "from keras.layers import *\n",
        "import numpy as np\n",
        "\n",
        "# Funkcja logiczna OR\n",
        "X_or = np.array([[0, 0], [0, 1], [1, 0], [1, 1]], 'float32')\n",
        "Y_or = np.array([[0], [1], [1], [1]], 'float32')\n",
        "\n",
        "model_or = Sequential()\n",
        "model_or.add(Dense(2, input_dim=2, activation='tanh'))\n",
        "model_or.add(Dense(12, activation='tanh'))\n",
        "model_or.add(Dense(1, activation='sigmoid'))\n",
        "\n",
        "model_or.compile(optimizer='adam', loss='binary_crossentropy')\n",
        "model_or.fit(X_or, Y_or, batch_size=1, epochs=200, verbose=0)\n",
        "print(\"OR Gate Output:\")\n",
        "print(model_or.predict(X_or))\n",
        "\n",
        "# Funkcja logiczna NOR\n",
        "X_nor = np.array([[0, 0], [0, 1], [1, 0], [1, 1]], 'float32')\n",
        "Y_nor = np.array([[1], [0], [0], [0]], 'float32')\n",
        "\n",
        "model_nor = Sequential()\n",
        "model_nor.add(Dense(2, input_dim=2, activation='tanh'))\n",
        "model_nor.add(Dense(12, activation='tanh'))\n",
        "model_nor.add(Dense(1, activation='sigmoid'))\n",
        "\n",
        "model_nor.compile(optimizer='adam', loss='binary_crossentropy')\n",
        "model_nor.fit(X_nor, Y_nor, batch_size=1, epochs=200, verbose=0)\n",
        "print(\"NOR Gate Output:\")\n",
        "print(model_nor.predict(X_nor))\n",
        "\n",
        "# Funkcja logiczna AND\n",
        "X_and = np.array([[0, 0], [0, 1], [1, 0], [1, 1]], 'float32')\n",
        "Y_and = np.array([[0], [0], [0], [1]], 'float32')\n",
        "\n",
        "model_and = Sequential()\n",
        "model_and.add(Dense(2, input_dim=2, activation='tanh'))\n",
        "model_and.add(Dense(12, activation='tanh'))\n",
        "model_and.add(Dense(1, activation='sigmoid'))\n",
        "\n",
        "model_and.compile(optimizer='adam', loss='binary_crossentropy')\n",
        "model_and.fit(X_and, Y_and, batch_size=1, epochs=200, verbose=0)\n",
        "print(\"AND Gate Output:\")\n",
        "print(model_and.predict(X_and))\n",
        "\n",
        "# Funkcja logiczna NAND\n",
        "X_nand = np.array([[0, 0], [0, 1], [1, 0], [1, 1]], 'float32')\n",
        "Y_nand = np.array([[1], [1], [1], [0]], 'float32')\n",
        "\n",
        "model_nand = Sequential()\n",
        "model_nand.add(Dense(2, input_dim=2, activation='tanh'))\n",
        "model_nand.add(Dense(12, activation='tanh'))\n",
        "model_nand.add(Dense(1, activation='sigmoid'))\n",
        "\n",
        "model_nand.compile(optimizer='adam', loss='binary_crossentropy')\n",
        "model_nand.fit(X_nand, Y_nand, batch_size=1, epochs=200, verbose=0)\n",
        "print(\"NAND Gate Output:\")\n",
        "print(model_nand.predict(X_nand))\n"
      ]
    }
  ]
}