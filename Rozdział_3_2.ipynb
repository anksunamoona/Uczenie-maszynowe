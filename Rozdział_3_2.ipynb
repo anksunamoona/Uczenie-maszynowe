{
  "nbformat": 4,
  "nbformat_minor": 0,
  "metadata": {
    "colab": {
      "provenance": []
    },
    "kernelspec": {
      "name": "python3",
      "display_name": "Python 3"
    },
    "language_info": {
      "name": "python"
    }
  },
  "cells": [
    {
      "cell_type": "code",
      "execution_count": 16,
      "metadata": {
        "colab": {
          "base_uri": "https://localhost:8080/"
        },
        "id": "xrb9PjaZJH8r",
        "outputId": "f2fe1858-65e2-407b-ec36-a0defb99bd42"
      },
      "outputs": [
        {
          "output_type": "stream",
          "name": "stdout",
          "text": [
            "OR Gate Output:\n",
            "1/1 [==============================] - 0s 51ms/step\n",
            "[[0.01444041]\n",
            " [0.9880666 ]\n",
            " [0.9880595 ]\n",
            " [0.98817277]]\n"
          ]
        }
      ],
      "source": [
        "from keras.models import Sequential\n",
        "from keras.layers import *\n",
        "import numpy as np\n",
        "\n",
        "# Funkcja logiczna OR\n",
        "X_or = np.array([[0, 0], [0, 1], [1, 0], [1, 1]], 'float32')\n",
        "Y_or = np.array([[0], [1], [1], [1]], 'float32')\n",
        "\n",
        "model_or = Sequential()\n",
        "model_or.add(Dense(64, input_dim=2, activation='tanh'))\n",
        "model_or.add(Dense(32, activation='tanh'))  \n",
        "model_or.add(Dense(16, activation='tanh'))  \n",
        "model_or.add(Dense(8, activation='tanh'))  \n",
        "model_or.add(Dense(1, activation='sigmoid'))\n",
        "\n",
        "model_or.compile(optimizer='adam', loss='binary_crossentropy')\n",
        "model_or.fit(X_or, Y_or, batch_size=1, epochs=200, verbose=0)\n",
        "print(\"OR Gate Output:\")\n",
        "print(model_or.predict(X_or))\n"
      ]
    },
    {
      "cell_type": "code",
      "source": [
        "# Funkcja logiczna OR\n",
        "X_or = np.array([[0, 0], [0, 1], [1, 0], [1, 1]], 'float32')\n",
        "Y_or = np.array([[0], [1], [1], [1]], 'float32')\n",
        "\n",
        "\n",
        "model_or = Sequential()\n",
        "model_or.add(Dense(16, input_dim=2, activation='tanh'))\n",
        "model_or.add(Dense(8, activation='tanh')) \n",
        "model_or.add(Dense(4, activation='tanh')) \n",
        "model_or.add(Dense(1, activation='sigmoid'))\n",
        "\n",
        "\n",
        "model_or.compile(optimizer='adam', loss='binary_crossentropy')\n",
        "model_or.fit(X_or, Y_or, batch_size=1, epochs=200, verbose=0)\n",
        "print(\"OR Gate Output:\")\n",
        "print(model_or.predict(X_or))"
      ],
      "metadata": {
        "colab": {
          "base_uri": "https://localhost:8080/"
        },
        "id": "X0ntt2G6eQMS",
        "outputId": "6eef0a47-ffc8-4bb4-9288-d31ea882e33e"
      },
      "execution_count": 17,
      "outputs": [
        {
          "output_type": "stream",
          "name": "stdout",
          "text": [
            "OR Gate Output:\n",
            "1/1 [==============================] - 0s 58ms/step\n",
            "[[0.02666172]\n",
            " [0.9832703 ]\n",
            " [0.98428196]\n",
            " [0.9878885 ]]\n"
          ]
        }
      ]
    },
    {
      "cell_type": "code",
      "source": [
        "# Funkcja logiczna OR\n",
        "X_or = np.array([[0, 0], [0, 1], [1, 0], [1, 1]], 'float32')\n",
        "Y_or = np.array([[0], [1], [1], [1]], 'float32')\n",
        "\n",
        "\n",
        "model_or = Sequential()\n",
        "model_or.add(Dense(16, input_dim=2, activation='tanh'))\n",
        "model_or.add(Dense(8, activation='tanh')) \n",
        "model_or.add(Dense(4, activation='tanh')) \n",
        "model_or.add(Dense(1, activation='sigmoid'))\n",
        "\n",
        "\n",
        "model_or.compile(optimizer='nadam', loss='binary_crossentropy')\n",
        "model_or.fit(X_or, Y_or, batch_size=1, epochs=200, verbose=0)\n",
        "print(\"OR Gate Output:\")\n",
        "print(model_or.predict(X_or))"
      ],
      "metadata": {
        "colab": {
          "base_uri": "https://localhost:8080/"
        },
        "id": "MVWlt2J6hhks",
        "outputId": "ff4d05b5-387b-4c99-f174-2d1d7c02b9e7"
      },
      "execution_count": 18,
      "outputs": [
        {
          "output_type": "stream",
          "name": "stdout",
          "text": [
            "OR Gate Output:\n",
            "1/1 [==============================] - 0s 49ms/step\n",
            "[[0.02857966]\n",
            " [0.9839867 ]\n",
            " [0.986036  ]\n",
            " [0.98986024]]\n"
          ]
        }
      ]
    },
    {
      "cell_type": "code",
      "source": [
        "# Funkcja logiczna OR\n",
        "X_or = np.array([[0, 0], [0, 1], [1, 0], [1, 1]], 'float32')\n",
        "Y_or = np.array([[0], [1], [1], [1]], 'float32')\n",
        "\n",
        "\n",
        "model_or = Sequential()\n",
        "model_or.add(Dense(16, input_dim=2, activation='tanh'))\n",
        "model_or.add(Dense(8, activation='tanh')) \n",
        "model_or.add(Dense(4, activation='tanh')) \n",
        "model_or.add(Dense(1, activation='sigmoid'))\n",
        "\n",
        "\n",
        "model_or.compile(optimizer='adadelta', loss='binary_crossentropy')\n",
        "model_or.fit(X_or, Y_or, batch_size=1, epochs=200, verbose=0)\n",
        "print(\"OR Gate Output:\")\n",
        "print(model_or.predict(X_or))"
      ],
      "metadata": {
        "colab": {
          "base_uri": "https://localhost:8080/"
        },
        "id": "jcSDHONChoMs",
        "outputId": "60c57333-723e-42de-e942-a01549a7f8f5"
      },
      "execution_count": 19,
      "outputs": [
        {
          "output_type": "stream",
          "name": "stdout",
          "text": [
            "OR Gate Output:\n",
            "1/1 [==============================] - 0s 45ms/step\n",
            "[[0.50186753]\n",
            " [0.50802845]\n",
            " [0.3972503 ]\n",
            " [0.40354693]]\n"
          ]
        }
      ]
    },
    {
      "cell_type": "code",
      "source": [
        "# Funkcja logiczna OR\n",
        "X_or = np.array([[0, 0], [0, 1], [1, 0], [1, 1]], 'float32')\n",
        "Y_or = np.array([[0], [1], [1], [1]], 'float32')\n",
        "\n",
        "\n",
        "model_or = Sequential()\n",
        "model_or.add(Dense(16, input_dim=2, activation='tanh'))\n",
        "model_or.add(Dense(8, activation='tanh')) \n",
        "model_or.add(Dense(4, activation='tanh')) \n",
        "model_or.add(Dense(1, activation='sigmoid'))\n",
        "\n",
        "\n",
        "model_or.compile(optimizer='adagrad', loss='binary_crossentropy')\n",
        "model_or.fit(X_or, Y_or, batch_size=1, epochs=200, verbose=0)\n",
        "print(\"OR Gate Output:\")\n",
        "print(model_or.predict(X_or))"
      ],
      "metadata": {
        "colab": {
          "base_uri": "https://localhost:8080/"
        },
        "id": "67G9l-HLh4E8",
        "outputId": "5b3cafe6-cebc-4ff0-855d-e8910351ca8c"
      },
      "execution_count": 21,
      "outputs": [
        {
          "output_type": "stream",
          "name": "stdout",
          "text": [
            "OR Gate Output:\n",
            "1/1 [==============================] - 0s 45ms/step\n",
            "[[0.5438038 ]\n",
            " [0.63130456]\n",
            " [0.6172264 ]\n",
            " [0.7007385 ]]\n"
          ]
        }
      ]
    }
  ]
}